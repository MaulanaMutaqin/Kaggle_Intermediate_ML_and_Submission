{
 "cells": [
  {
   "cell_type": "markdown",
   "metadata": {},
   "source": [
    "# Kaggle Machine Learning Random Forest for Competition"
   ]
  },
  {
   "cell_type": "markdown",
   "metadata": {},
   "source": [
    "In this exercise, you will work with data from the [Housing Prices Competition for Kaggle Learn Users](https://www.kaggle.com/c/home-data-for-ml-course).\n",
    "\n",
    "Run the next code cell without changes to load the training and validation sets in `X_train`, `X_valid`, `y_train`, and `y_valid`.  The test set is loaded in `X_test`."
   ]
  },
  {
   "cell_type": "code",
   "execution_count": 2,
   "metadata": {},
   "outputs": [
    {
     "name": "stdout",
     "output_type": "stream",
     "text": [
      "Validation MAE for Random Forest Model: 21,857\n"
     ]
    }
   ],
   "source": [
    "# Import helpful libraries\n",
    "import pandas as pd\n",
    "from sklearn.ensemble import RandomForestRegressor\n",
    "from sklearn.metrics import mean_absolute_error\n",
    "from sklearn.model_selection import train_test_split\n",
    "\n",
    "# Load the data, and separate the target\n",
    "\n",
    "home_data = pd.read_csv(r'C:\\Users\\Asus\\Documents\\Python\\csv file\\train.csv', sep=',')\n",
    "y = home_data.SalePrice\n",
    "\n",
    "# Create X (After completing the exercise, you can return to modify this line!)\n",
    "features = ['LotArea', 'YearBuilt', '1stFlrSF', '2ndFlrSF', 'FullBath', 'BedroomAbvGr', 'TotRmsAbvGrd']\n",
    "\n",
    "# Select columns corresponding to features, and preview the data\n",
    "X = home_data[features]\n",
    "X.head()\n",
    "\n",
    "# Split into validation and training data\n",
    "train_X, val_X, train_y, val_y = train_test_split(X, y, random_state=1)\n",
    "\n",
    "# Define a random forest model\n",
    "rf_model = RandomForestRegressor(random_state=1)\n",
    "rf_model.fit(train_X, train_y)\n",
    "rf_val_predictions = rf_model.predict(val_X)\n",
    "rf_val_mae = mean_absolute_error(rf_val_predictions, val_y)\n",
    "\n",
    "print(\"Validation MAE for Random Forest Model: {:,.0f}\".format(rf_val_mae))"
   ]
  },
  {
   "cell_type": "markdown",
   "metadata": {},
   "source": [
    "# Train a model for the competition\n",
    "​\n",
    "The code cell above trains a Random Forest model on **`train_X`** and **`train_y`**.  \n",
    "​\n",
    "Use the code cell below to build a Random Forest model and train it on all of **`X`** and **`y`**."
   ]
  },
  {
   "cell_type": "code",
   "execution_count": 7,
   "metadata": {},
   "outputs": [
    {
     "name": "stdout",
     "output_type": "stream",
     "text": [
      "                Id   MSSubClass  LotFrontage       LotArea  OverallQual  \\\n",
      "count  1459.000000  1459.000000  1232.000000   1459.000000  1459.000000   \n",
      "mean   2190.000000    57.378341    68.580357   9819.161069     6.078821   \n",
      "std     421.321334    42.746880    22.376841   4955.517327     1.436812   \n",
      "min    1461.000000    20.000000    21.000000   1470.000000     1.000000   \n",
      "25%    1825.500000    20.000000    58.000000   7391.000000     5.000000   \n",
      "50%    2190.000000    50.000000    67.000000   9399.000000     6.000000   \n",
      "75%    2554.500000    70.000000    80.000000  11517.500000     7.000000   \n",
      "max    2919.000000   190.000000   200.000000  56600.000000    10.000000   \n",
      "\n",
      "       OverallCond    YearBuilt  YearRemodAdd   MasVnrArea   BsmtFinSF1  ...  \\\n",
      "count  1459.000000  1459.000000   1459.000000  1444.000000  1458.000000  ...   \n",
      "mean      5.553804  1971.357779   1983.662783   100.709141   439.203704  ...   \n",
      "std       1.113740    30.390071     21.130467   177.625900   455.268042  ...   \n",
      "min       1.000000  1879.000000   1950.000000     0.000000     0.000000  ...   \n",
      "25%       5.000000  1953.000000   1963.000000     0.000000     0.000000  ...   \n",
      "50%       5.000000  1973.000000   1992.000000     0.000000   350.500000  ...   \n",
      "75%       6.000000  2001.000000   2004.000000   164.000000   753.500000  ...   \n",
      "max       9.000000  2010.000000   2010.000000  1290.000000  4010.000000  ...   \n",
      "\n",
      "        GarageArea   WoodDeckSF  OpenPorchSF  EnclosedPorch    3SsnPorch  \\\n",
      "count  1458.000000  1459.000000  1459.000000    1459.000000  1459.000000   \n",
      "mean    472.768861    93.174777    48.313914      24.243317     1.794380   \n",
      "std     217.048611   127.744882    68.883364      67.227765    20.207842   \n",
      "min       0.000000     0.000000     0.000000       0.000000     0.000000   \n",
      "25%     318.000000     0.000000     0.000000       0.000000     0.000000   \n",
      "50%     480.000000     0.000000    28.000000       0.000000     0.000000   \n",
      "75%     576.000000   168.000000    72.000000       0.000000     0.000000   \n",
      "max    1488.000000  1424.000000   742.000000    1012.000000   360.000000   \n",
      "\n",
      "       ScreenPorch     PoolArea       MiscVal       MoSold       YrSold  \n",
      "count  1459.000000  1459.000000   1459.000000  1459.000000  1459.000000  \n",
      "mean     17.064428     1.744345     58.167923     6.104181  2007.769705  \n",
      "std      56.609763    30.491646    630.806978     2.722432     1.301740  \n",
      "min       0.000000     0.000000      0.000000     1.000000  2006.000000  \n",
      "25%       0.000000     0.000000      0.000000     4.000000  2007.000000  \n",
      "50%       0.000000     0.000000      0.000000     6.000000  2008.000000  \n",
      "75%       0.000000     0.000000      0.000000     8.000000  2009.000000  \n",
      "max     576.000000   800.000000  17000.000000    12.000000  2010.000000  \n",
      "\n",
      "[8 rows x 37 columns]\n",
      "        Id  SalePrice\n",
      "0     1461  122656.58\n",
      "1     1462  156789.00\n",
      "2     1463  182959.00\n",
      "3     1464  178102.00\n",
      "4     1465  189049.48\n",
      "...    ...        ...\n",
      "1454  2915   83645.00\n",
      "1455  2916   86785.00\n",
      "1456  2917  151283.01\n",
      "1457  2918  127878.00\n",
      "1458  2919  225959.80\n",
      "\n",
      "[1459 rows x 2 columns]\n"
     ]
    }
   ],
   "source": [
    "# To improve accuracy, create a new Random Forest model which you will train on all training data\n",
    "rf_model_on_full_data = RandomForestRegressor(random_state=1)\n",
    "\n",
    "# fit rf_model_on_full_data on all data from the training data\n",
    "rf_model_on_full_data.fit(X, y)\n",
    "\n",
    "# path to file you will use for predictions\n",
    "test_data_path = '../input/test.csv'\n",
    "\n",
    "# read test data file using pandas\n",
    "test_data = pd.read_csv(r'C:\\Users\\Asus\\Documents\\Python\\csv file\\test.csv', sep=',')\n",
    "print(test_data.describe())\n",
    "\n",
    "# create test_X which comes from test_data but includes only the columns you used for prediction.\n",
    "# The list of columns is stored in a variable called features\n",
    "test_X = test_data[features]\n",
    "\n",
    "# make predictions which we will submit. \n",
    "test_preds = rf_model_on_full_data.predict(test_X)\n",
    "\n",
    "output = pd.DataFrame({'Id': test_data.Id,\n",
    "                       'SalePrice': test_preds})\n",
    "\n",
    "print(output)\n",
    "output.to_csv('submission.csv', index=False)"
   ]
  },
  {
   "cell_type": "code",
   "execution_count": null,
   "metadata": {},
   "outputs": [],
   "source": []
  }
 ],
 "metadata": {
  "interpreter": {
   "hash": "4484c28bae1de224b39b1e20eaed8996fc1e089d98419c1c635748a34569e3eb"
  },
  "kernelspec": {
   "display_name": "Python 3.9.7 64-bit ('base': conda)",
   "language": "python",
   "name": "python3"
  },
  "language_info": {
   "codemirror_mode": {
    "name": "ipython",
    "version": 3
   },
   "file_extension": ".py",
   "mimetype": "text/x-python",
   "name": "python",
   "nbconvert_exporter": "python",
   "pygments_lexer": "ipython3",
   "version": "3.9.7"
  },
  "orig_nbformat": 4
 },
 "nbformat": 4,
 "nbformat_minor": 2
}
